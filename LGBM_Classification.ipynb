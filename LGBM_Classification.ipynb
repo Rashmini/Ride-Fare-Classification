{
  "nbformat": 4,
  "nbformat_minor": 0,
  "metadata": {
    "colab": {
      "name": "LGBM Classification.ipynb",
      "provenance": [],
      "collapsed_sections": []
    },
    "kernelspec": {
      "name": "python3",
      "display_name": "Python 3"
    },
    "accelerator": "GPU"
  },
  "cells": [
    {
      "cell_type": "code",
      "metadata": {
        "id": "NHsxjXJcSSr7",
        "colab_type": "code",
        "colab": {}
      },
      "source": [
        "from google.colab import drive\n",
        "drive.mount('/content/drive/')"
      ],
      "execution_count": 0,
      "outputs": []
    },
    {
      "cell_type": "code",
      "metadata": {
        "id": "suUgE_EWSkJH",
        "colab_type": "code",
        "outputId": "ed206d9e-cbfb-4074-c5e7-1c7f6cbad12e",
        "colab": {
          "base_uri": "https://localhost:8080/",
          "height": 34
        }
      },
      "source": [
        "cd \"/content/drive/My Drive/ML\""
      ],
      "execution_count": 48,
      "outputs": [
        {
          "output_type": "stream",
          "text": [
            "/content/drive/My Drive/ML\n"
          ],
          "name": "stdout"
        }
      ]
    },
    {
      "cell_type": "code",
      "metadata": {
        "id": "5XwotHKhSrOS",
        "colab_type": "code",
        "colab": {}
      },
      "source": [
        "from pathlib import Path\n",
        "\n",
        "import numpy as np\n",
        "import pandas as pd\n",
        "\n",
        "%matplotlib inline\n",
        "import matplotlib.pyplot as plt\n",
        "\n",
        "from sklearn.preprocessing import StandardScaler\n",
        "from sklearn.model_selection import train_test_split\n",
        "from sklearn.metrics import f1_score\n",
        "import lightgbm as lgb\n",
        "from sklearn.model_selection import GridSearchCV\n",
        "\n",
        "RANDOM_SEED = 8    # Set a random seed for reproducibility!\n",
        "pd.set_option(\"display.max_columns\", 100)"
      ],
      "execution_count": 0,
      "outputs": []
    },
    {
      "cell_type": "code",
      "metadata": {
        "id": "tH0_nHHE7o9v",
        "colab_type": "code",
        "colab": {}
      },
      "source": [
        "DATA_PATH = Path.cwd().parent / \"data\" / \"final\" / \"public\"\n",
        "\n",
        "train_df = pd.read_csv(\n",
        "    DATA_PATH / \"/content/drive/My Drive/ML/train.csv\", \n",
        "    index_col=\"tripid\"\n",
        ")\n",
        "test_features_df = pd.read_csv(\n",
        "    DATA_PATH / \"/content/drive/My Drive/ML/test.csv\", \n",
        "    index_col=\"tripid\"\n",
        ")"
      ],
      "execution_count": 0,
      "outputs": []
    },
    {
      "cell_type": "code",
      "metadata": {
        "id": "S6Swy-Kg7N11",
        "colab_type": "code",
        "colab": {}
      },
      "source": [
        "labels_df = train_df[['label']]\n",
        "features_df = train_df.drop('label', axis=1)"
      ],
      "execution_count": 0,
      "outputs": []
    },
    {
      "cell_type": "code",
      "metadata": {
        "id": "_R073VaVAVqE",
        "colab_type": "code",
        "colab": {}
      },
      "source": [
        "labels_df=labels_df.replace(\"correct\", 1)\n",
        "labels_df=labels_df.replace(\"incorrect\", 0)"
      ],
      "execution_count": 0,
      "outputs": []
    },
    {
      "cell_type": "code",
      "metadata": {
        "id": "HgvqHfCfWEi_",
        "colab_type": "code",
        "colab": {}
      },
      "source": [
        "features_df = features_df.fillna(features_df.mean())\n",
        "test_features_df = test_features_df.fillna(test_features_df.mean())"
      ],
      "execution_count": 0,
      "outputs": []
    },
    {
      "cell_type": "code",
      "metadata": {
        "id": "spYGWDPRWGps",
        "colab_type": "code",
        "colab": {}
      },
      "source": [
        "def haversine_array(lat1, lon1, lat2, lon2):\n",
        "    lat1, lon1, lat2, lon2 = map(np.radians, (lat1, lon1, lat2, lon2))\n",
        "    avg_earth_radius = 6371  # in km\n",
        "    lat = lat2 - lat1\n",
        "    lon = lon2 - lon1\n",
        "    d = np.sin(lat * 0.5) ** 2 + np.cos(lat1) * np.cos(lat2) * np.sin(lon * 0.5) ** 2\n",
        "    h = 2 * avg_earth_radius * np.arcsin(np.sqrt(d))\n",
        "    return h\n",
        "\n",
        "def dummy_manhattan_distance(lat1, lon1, lat2, lon2):\n",
        "    a = haversine_array(lat1, lon1, lat1, lon2)\n",
        "    b = haversine_array(lat1, lon1, lat2, lon1)\n",
        "    return a + b\n",
        "\n",
        "def bearing_array(lat1, lon1, lat2, lon2):\n",
        "    avg_earth_radius = 6371  # in km\n",
        "    lon_delta_rad = np.radians(lon2 - lon1)\n",
        "    lat1, lon1, lat2, lon2 = map(np.radians, (lat1, lon1, lat2, lon2))\n",
        "    y = np.sin(lon_delta_rad) * np.cos(lat2)\n",
        "    x = np.cos(lat1) * np.sin(lat2) - np.sin(lat1) * np.cos(lat2) * np.cos(lon_delta_rad)\n",
        "    return np.degrees(np.arctan2(y, x))"
      ],
      "execution_count": 0,
      "outputs": []
    },
    {
      "cell_type": "code",
      "metadata": {
        "id": "VMR6r2rJWHpm",
        "colab_type": "code",
        "colab": {}
      },
      "source": [
        "features_df['distance_haversine'] = haversine_array(features_df['pick_lat'], features_df['pick_lon'], features_df['drop_lat'], features_df['drop_lon'])\n",
        "features_df['distance_dummy_manhattan'] = dummy_manhattan_distance(features_df['pick_lat'], features_df['pick_lon'], features_df['drop_lat'], features_df['drop_lon'])\n",
        "features_df['direction'] = bearing_array(features_df['pick_lat'], features_df['pick_lon'], features_df['drop_lat'], features_df['drop_lon'])\n",
        "\n",
        "test_features_df['distance_haversine'] = haversine_array(test_features_df['pick_lat'], test_features_df['pick_lon'], test_features_df['drop_lat'], test_features_df['drop_lon'])\n",
        "test_features_df['distance_dummy_manhattan'] = dummy_manhattan_distance(test_features_df['pick_lat'], test_features_df['pick_lon'], test_features_df['drop_lat'], test_features_df['drop_lon'])\n",
        "test_features_df['direction'] = bearing_array(test_features_df['pick_lat'], test_features_df['pick_lon'], test_features_df['drop_lat'], test_features_df['drop_lon'])"
      ],
      "execution_count": 0,
      "outputs": []
    },
    {
      "cell_type": "code",
      "metadata": {
        "id": "5B_3skQPWLS0",
        "colab_type": "code",
        "colab": {}
      },
      "source": [
        "features_df['pickup_time'] = pd.to_datetime(features_df.pickup_time)\n",
        "features_df['drop_time'] = pd.to_datetime(features_df.drop_time)\n",
        "\n",
        "features_df['pickup_hour'] = features_df['pickup_time'].dt.hour\n",
        "features_df['pickup_minute'] = features_df['pickup_time'].dt.minute\n",
        "features_df['pickup_day'] = features_df['pickup_time'].dt.day\n",
        "\n",
        "features_df['drop_hour'] = features_df['drop_time'].dt.hour\n",
        "features_df['drop_minute'] = features_df['drop_time'].dt.minute\n",
        "features_df['drop_day'] = features_df['drop_time'].dt.day\n",
        "\n",
        "features_df[\"effective_time\"] = features_df[\"duration\"] - features_df[\"meter_waiting\"]"
      ],
      "execution_count": 0,
      "outputs": []
    },
    {
      "cell_type": "code",
      "metadata": {
        "id": "EtZt8ItGWO7Z",
        "colab_type": "code",
        "colab": {}
      },
      "source": [
        "test_features_df['pickup_time'] = pd.to_datetime(test_features_df.pickup_time)\n",
        "test_features_df['drop_time'] = pd.to_datetime(test_features_df.drop_time)\n",
        "\n",
        "test_features_df['pickup_hour'] = test_features_df['pickup_time'].dt.hour\n",
        "test_features_df['pickup_minute'] = test_features_df['pickup_time'].dt.minute\n",
        "test_features_df['pickup_day'] = test_features_df['pickup_time'].dt.day\n",
        "\n",
        "test_features_df['drop_hour'] = test_features_df['drop_time'].dt.hour\n",
        "test_features_df['drop_minute'] = test_features_df['drop_time'].dt.minute\n",
        "test_features_df['drop_day'] = test_features_df['drop_time'].dt.day\n",
        "\n",
        "test_features_df[\"effective_time\"] = test_features_df[\"duration\"] - test_features_df[\"meter_waiting\"]"
      ],
      "execution_count": 0,
      "outputs": []
    },
    {
      "cell_type": "code",
      "metadata": {
        "id": "5YCifs4safAA",
        "colab_type": "code",
        "colab": {}
      },
      "source": [
        "features_df = features_df.drop([ 'pickup_time', 'drop_time'], axis = 1)\n",
        "test_features_df = test_features_df.drop([ 'pickup_time', 'drop_time'], axis = 1)"
      ],
      "execution_count": 0,
      "outputs": []
    },
    {
      "cell_type": "code",
      "metadata": {
        "id": "0IryW49uWWyL",
        "colab_type": "code",
        "outputId": "3e2969d9-d87d-488d-f492-6c5aa16c8f55",
        "colab": {
          "base_uri": "https://localhost:8080/",
          "height": 280
        }
      },
      "source": [
        "features_df['log_trip_duration'] = np.log(features_df['duration'].values + 1)\n",
        "plt.hist(features_df['log_trip_duration'].values, bins=100)\n",
        "plt.xlabel('log(trip_duration)')\n",
        "plt.ylabel('number of train records')\n",
        "plt.show()\n",
        "features_df = features_df.drop([ 'log_trip_duration'], axis = 1)"
      ],
      "execution_count": 59,
      "outputs": [
        {
          "output_type": "display_data",
          "data": {
            "image/png": "[encoded data removed]",
            "text/plain": [
              "<Figure size 432x288 with 1 Axes>"
            ]
          },
          "metadata": {
            "tags": [],
            "needs_background": "light"
          }
        }
      ]
    },
    {
      "cell_type": "code",
      "metadata": {
        "id": "74ldC_PedRGY",
        "colab_type": "code",
        "colab": {}
      },
      "source": [
        "scaler = StandardScaler()\n",
        "features = scaler.fit_transform(features_df.values)\n",
        "features_df = pd.DataFrame(features, index=features_df.index, columns=features_df.columns)"
      ],
      "execution_count": 0,
      "outputs": []
    },
    {
      "cell_type": "code",
      "metadata": {
        "id": "cDZr5E8HWw_9",
        "colab_type": "code",
        "colab": {}
      },
      "source": [
        "X_train, X_eval, y_train, y_eval = train_test_split(\n",
        "    features_df,\n",
        "    labels_df,\n",
        "    test_size=0.33,\n",
        "    shuffle=True,\n",
        "    stratify=labels_df,\n",
        "    random_state=RANDOM_SEED\n",
        ")"
      ],
      "execution_count": 0,
      "outputs": []
    },
    {
      "cell_type": "code",
      "metadata": {
        "id": "NeCyGVKlmAq-",
        "colab_type": "code",
        "colab": {}
      },
      "source": [
        "# A parameter grid for lgb\n",
        "params = {\n",
        "        'max_depth':range(3,16,2), \n",
        "        'min_samples_split':range(200,1001,200),\n",
        "        'min_samples_leaf':range(30,71,10),\n",
        "        'subsample':[0.8,0.85],\n",
        "        'reg_alpha':[1e-5, 1e-2, 0.1, 1, 100],\n",
        "        'reg_lambda':[1e-5, 1e-2, 0.1, 1, 100]\n",
        "        }"
      ],
      "execution_count": 0,
      "outputs": []
    },
    {
      "cell_type": "code",
      "metadata": {
        "id": "1VjBSsIMmK6i",
        "colab_type": "code",
        "colab": {}
      },
      "source": [
        "# grid search\n",
        "lgb1 = lgb.LGBMClassifier(learning_rate=0.004, n_estimators=5000, random_state=10, objective='binary', boosting_type='goss', silent=True, nthread=4)\n",
        "\n",
        "grid = GridSearchCV(estimator=lgb1, param_grid=params, scoring='f1_macro', n_jobs=4, cv=5, verbose=3)\n",
        "grid.fit(features_df, labels_df.values.ravel())\n",
        "grid.best_params_, grid.best_score_"
      ],
      "execution_count": 0,
      "outputs": []
    },
    {
      "cell_type": "code",
      "metadata": {
        "id": "T5VhODrPWl_W",
        "colab_type": "code",
        "colab": {}
      },
      "source": [
        "# classifier\n",
        "clf = lgb.LGBMClassifier(learning_rate=0.004, n_estimators=5000, max_depth=7, min_samples_split=200, min_samples_leaf=30, random_state=10, subsample=0.8, \n",
        "                         reg_alpha = 0.1, reg_lambda = 1, objective = 'binary', boosting_type='goss')"
      ],
      "execution_count": 0,
      "outputs": []
    },
    {
      "cell_type": "code",
      "metadata": {
        "id": "0kyaGehvXSI_",
        "colab_type": "code",
        "outputId": "dcaed27b-af7d-4cb3-a6cf-503ba20e3409",
        "colab": {
          "base_uri": "https://localhost:8080/",
          "height": 52
        }
      },
      "source": [
        "%%time\n",
        "\n",
        "# Train model\n",
        "clf.fit(X_train, y_train.values.ravel())\n",
        "\n",
        "None   # don't print out the whole pipeline representation"
      ],
      "execution_count": 65,
      "outputs": [
        {
          "output_type": "stream",
          "text": [
            "CPU times: user 38.3 s, sys: 636 ms, total: 38.9 s\n",
            "Wall time: 19.9 s\n"
          ],
          "name": "stdout"
        }
      ]
    },
    {
      "cell_type": "code",
      "metadata": {
        "id": "bkS3XIz92EAY",
        "colab_type": "code",
        "colab": {}
      },
      "source": [
        "# Predict on evaluation set\n",
        "preds = clf.predict(X_eval)"
      ],
      "execution_count": 0,
      "outputs": []
    },
    {
      "cell_type": "code",
      "metadata": {
        "id": "sbq8l-t-X6Gy",
        "colab_type": "code",
        "outputId": "0e871adf-c02a-49bf-d9f2-8f62b4c1af3d",
        "colab": {
          "base_uri": "https://localhost:8080/",
          "height": 34
        }
      },
      "source": [
        "y_preds = pd.DataFrame(\n",
        "    {\n",
        "        \"label\": preds,\n",
        "    },\n",
        "    index = y_eval.index\n",
        ")\n",
        "print(\"y_preds.shape:\", y_preds.shape)"
      ],
      "execution_count": 67,
      "outputs": [
        {
          "output_type": "stream",
          "text": [
            "y_preds.shape: (5669, 1)\n"
          ],
          "name": "stdout"
        }
      ]
    },
    {
      "cell_type": "code",
      "metadata": {
        "id": "JZoJhQ_uYHG0",
        "colab_type": "code",
        "outputId": "0e8b9894-fe59-4c33-f245-acae72d767bb",
        "colab": {
          "base_uri": "https://localhost:8080/",
          "height": 34
        }
      },
      "source": [
        "f1_score(y_eval, y_preds, average='macro')"
      ],
      "execution_count": 68,
      "outputs": [
        {
          "output_type": "execute_result",
          "data": {
            "text/plain": [
              "0.8432745370179092"
            ]
          },
          "metadata": {
            "tags": []
          },
          "execution_count": 68
        }
      ]
    },
    {
      "cell_type": "code",
      "metadata": {
        "id": "XzW18o9lhS_x",
        "colab_type": "code",
        "outputId": "d9e0874d-a620-43e5-af47-a2f206d0843e",
        "colab": {
          "base_uri": "https://localhost:8080/",
          "height": 52
        }
      },
      "source": [
        "# retrain on full dataset\n",
        "%%time \n",
        "\n",
        "clf.fit(features_df, labels_df.values.ravel())\n",
        "\n",
        "None   # So we don't print out the whole pipeline representation"
      ],
      "execution_count": 26,
      "outputs": [
        {
          "output_type": "stream",
          "text": [
            "CPU times: user 48.7 s, sys: 708 ms, total: 49.4 s\n",
            "Wall time: 25.2 s\n"
          ],
          "name": "stdout"
        }
      ]
    },
    {
      "cell_type": "code",
      "metadata": {
        "id": "NSrik_r9hsxD",
        "colab_type": "code",
        "colab": {}
      },
      "source": [
        "preds1 = clf.predict(test_features_df)"
      ],
      "execution_count": 0,
      "outputs": []
    },
    {
      "cell_type": "code",
      "metadata": {
        "id": "1cZIp7k0h2FW",
        "colab_type": "code",
        "colab": {}
      },
      "source": [
        "submission_df = pd.read_csv(DATA_PATH / \"/content/drive/My Drive/ML/sample_submission.csv\", \n",
        "                            index_col=\"tripid\")"
      ],
      "execution_count": 0,
      "outputs": []
    },
    {
      "cell_type": "code",
      "metadata": {
        "id": "UvPw8rxoiCQl",
        "colab_type": "code",
        "colab": {}
      },
      "source": [
        "# Make sure we have the rows in the same order\n",
        "np.testing.assert_array_equal(test_features_df.index.values, \n",
        "                              submission_df.index.values)"
      ],
      "execution_count": 0,
      "outputs": []
    },
    {
      "cell_type": "code",
      "metadata": {
        "id": "TEwjq-7kpJeL",
        "colab_type": "code",
        "colab": {}
      },
      "source": [
        "# Save predictions to submission data frame\n",
        "submission_df[\"prediction\"] = preds1"
      ],
      "execution_count": 0,
      "outputs": []
    },
    {
      "cell_type": "code",
      "metadata": {
        "id": "BLdRLhxmiRxv",
        "colab_type": "code",
        "colab": {}
      },
      "source": [
        "submission_df.to_csv('my_submission.csv', index=True)"
      ],
      "execution_count": 0,
      "outputs": []
    }
  ]
}