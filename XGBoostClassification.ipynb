{
  "nbformat": 4,
  "nbformat_minor": 0,
  "metadata": {
    "colab": {
      "name": "XGBoostClassification.ipynb",
      "provenance": []
    },
    "kernelspec": {
      "name": "python3",
      "display_name": "Python 3"
    },
    "accelerator": "GPU"
  },
  "cells": [
    {
      "cell_type": "code",
      "metadata": {
        "id": "NHsxjXJcSSr7",
        "colab_type": "code",
        "colab": {}
      },
      "source": [
        "from google.colab import drive\n",
        "drive.mount('/content/drive/')"
      ],
      "execution_count": 0,
      "outputs": []
    },
    {
      "cell_type": "code",
      "metadata": {
        "id": "suUgE_EWSkJH",
        "colab_type": "code",
        "outputId": "d1c1e755-b7f0-49fc-b5b3-12ad8839591a",
        "colab": {
          "base_uri": "https://localhost:8080/",
          "height": 34
        }
      },
      "source": [
        "cd \"/content/drive/My Drive/ML\""
      ],
      "execution_count": 22,
      "outputs": [
        {
          "output_type": "stream",
          "text": [
            "/content/drive/My Drive/ML\n"
          ],
          "name": "stdout"
        }
      ]
    },
    {
      "cell_type": "code",
      "metadata": {
        "id": "5XwotHKhSrOS",
        "colab_type": "code",
        "colab": {}
      },
      "source": [
        "from pathlib import Path\n",
        "\n",
        "import numpy as np\n",
        "import pandas as pd\n",
        "\n",
        "from sklearn.preprocessing import StandardScaler\n",
        "from sklearn.impute import SimpleImputer\n",
        "from sklearn.compose import ColumnTransformer\n",
        "\n",
        "from sklearn.pipeline import Pipeline\n",
        "from xgboost.sklearn import XGBClassifier\n",
        "\n",
        "from sklearn.model_selection import train_test_split\n",
        "from sklearn.metrics import f1_score\n",
        "from sklearn.utils import resample\n",
        "from sklearn.model_selection import cross_val_score\n",
        "\n",
        "RANDOM_SEED = 8    # Set a random seed for reproducibility!\n",
        "pd.set_option(\"display.max_columns\", 100)"
      ],
      "execution_count": 0,
      "outputs": []
    },
    {
      "cell_type": "code",
      "metadata": {
        "id": "tH0_nHHE7o9v",
        "colab_type": "code",
        "colab": {}
      },
      "source": [
        "DATA_PATH = Path.cwd().parent / \"data\" / \"final\" / \"public\"\n",
        "\n",
        "train_df = pd.read_csv(\n",
        "    DATA_PATH / \"/content/drive/My Drive/ML/train.csv\", \n",
        "    index_col=\"tripid\"\n",
        ")\n",
        "test_features_df = pd.read_csv(\n",
        "    DATA_PATH / \"/content/drive/My Drive/ML/test.csv\", \n",
        "    index_col=\"tripid\"\n",
        ")"
      ],
      "execution_count": 0,
      "outputs": []
    },
    {
      "cell_type": "code",
      "metadata": {
        "id": "S6Swy-Kg7N11",
        "colab_type": "code",
        "colab": {}
      },
      "source": [
        "labels_df = train_df[['label']]\n",
        "features_df = train_df.drop('label', axis=1)"
      ],
      "execution_count": 0,
      "outputs": []
    },
    {
      "cell_type": "code",
      "metadata": {
        "id": "_R073VaVAVqE",
        "colab_type": "code",
        "colab": {}
      },
      "source": [
        "labels_df=labels_df.replace(\"correct\", 1)\n",
        "labels_df=labels_df.replace(\"incorrect\", 0)"
      ],
      "execution_count": 0,
      "outputs": []
    },
    {
      "cell_type": "code",
      "metadata": {
        "id": "y_HuIAOc9b_-",
        "colab_type": "code",
        "colab": {}
      },
      "source": [
        "features_df = features_df.drop([ 'pickup_time', 'drop_time'], axis = 1)\n",
        "test_features_df = test_features_df.drop([ 'pickup_time', 'drop_time'], axis = 1)"
      ],
      "execution_count": 0,
      "outputs": []
    },
    {
      "cell_type": "code",
      "metadata": {
        "id": "LQd3tdDxWVnn",
        "colab_type": "code",
        "colab": {}
      },
      "source": [
        "numeric_cols = features_df.columns[features_df.dtypes != \"object\"].values"
      ],
      "execution_count": 0,
      "outputs": []
    },
    {
      "cell_type": "code",
      "metadata": {
        "id": "1E7stb9CWjjI",
        "colab_type": "code",
        "colab": {}
      },
      "source": [
        "numeric_preprocessing_steps = Pipeline(steps=[\n",
        "    ('imputer', SimpleImputer(strategy='median')),\n",
        "    ('standard_scaler', StandardScaler())])\n",
        "\n",
        "preprocessor = ColumnTransformer(\n",
        "    transformers = [\n",
        "        (\"numeric\", numeric_preprocessing_steps, numeric_cols)\n",
        "    ],\n",
        "    remainder = \"drop\"\n",
        ")"
      ],
      "execution_count": 0,
      "outputs": []
    },
    {
      "cell_type": "code",
      "metadata": {
        "id": "cDZr5E8HWw_9",
        "colab_type": "code",
        "colab": {}
      },
      "source": [
        "X_train, X_eval, y_train, y_eval = train_test_split(\n",
        "    features_df,\n",
        "    labels_df,\n",
        "    test_size=0.33,\n",
        "    shuffle=True,\n",
        "    stratify=labels_df,\n",
        "    random_state=RANDOM_SEED\n",
        ")"
      ],
      "execution_count": 0,
      "outputs": []
    },
    {
      "cell_type": "code",
      "metadata": {
        "id": "e9hw9JZ28hG4",
        "colab_type": "code",
        "colab": {}
      },
      "source": [
        "features_df_preprocess = pd.DataFrame(preprocessor.fit_transform(features_df))\n",
        "features_df_preprocess.columns = features_df.columns\n",
        "\n",
        "test_features_df_preprocess = pd.DataFrame(preprocessor.transform(test_features_df))\n",
        "test_features_df_preprocess.columns = test_features_df.columns"
      ],
      "execution_count": 0,
      "outputs": []
    },
    {
      "cell_type": "code",
      "metadata": {
        "id": "EQTfFhI68jRM",
        "colab_type": "code",
        "colab": {}
      },
      "source": [
        "X_train_preprocess = pd.DataFrame(preprocessor.transform(X_train))\n",
        "X_train_preprocess.columns = X_train.columns\n",
        "\n",
        "X_eval_preprocess = pd.DataFrame(preprocessor.transform(X_eval))\n",
        "X_eval_preprocess.columns = X_eval.columns"
      ],
      "execution_count": 0,
      "outputs": []
    },
    {
      "cell_type": "code",
      "metadata": {
        "id": "T5VhODrPWl_W",
        "colab_type": "code",
        "colab": {}
      },
      "source": [
        "clf = XGBClassifier(learning_rate =0.1, n_estimators=400, max_depth=10,\n",
        " min_child_weight=2, gamma=0.3, subsample=0.8, colsample_bytree=0.8, reg_alpha=0.000005, reg_lambda=1,\n",
        " objective= 'binary:logistic', nthread=4, scale_pos_weight=1, seed=27)"
      ],
      "execution_count": 0,
      "outputs": []
    },
    {
      "cell_type": "code",
      "metadata": {
        "id": "0kyaGehvXSI_",
        "colab_type": "code",
        "outputId": "62f2b791-1542-4844-96bf-6dc22d2f79e8",
        "colab": {
          "base_uri": "https://localhost:8080/",
          "height": 52
        }
      },
      "source": [
        "%%time\n",
        "\n",
        "# Train model\n",
        "clf.fit(X_train_preprocess, y_train.values.ravel())\n",
        "\n",
        "None   # don't print out the whole pipeline representation"
      ],
      "execution_count": 48,
      "outputs": [
        {
          "output_type": "stream",
          "text": [
            "CPU times: user 13.1 s, sys: 932 ms, total: 14 s\n",
            "Wall time: 8.37 s\n"
          ],
          "name": "stdout"
        }
      ]
    },
    {
      "cell_type": "code",
      "metadata": {
        "id": "bkS3XIz92EAY",
        "colab_type": "code",
        "colab": {}
      },
      "source": [
        "# Predict on evaluation set\n",
        "preds = clf.predict(X_eval_preprocess)"
      ],
      "execution_count": 0,
      "outputs": []
    },
    {
      "cell_type": "code",
      "metadata": {
        "id": "sbq8l-t-X6Gy",
        "colab_type": "code",
        "outputId": "36567569-38ac-407a-fb12-cdaf1b9079c1",
        "colab": {
          "base_uri": "https://localhost:8080/",
          "height": 245
        }
      },
      "source": [
        "y_preds = pd.DataFrame(\n",
        "    {\n",
        "        \"label\": preds,\n",
        "    },\n",
        "    index = y_eval.index\n",
        ")\n",
        "print(\"y_preds.shape:\", y_preds.shape)\n",
        "y_preds.head()"
      ],
      "execution_count": 50,
      "outputs": [
        {
          "output_type": "stream",
          "text": [
            "y_preds.shape: (5669, 1)\n"
          ],
          "name": "stdout"
        },
        {
          "output_type": "execute_result",
          "data": {
            "text/html": [
              "<div>\n",
              "<style scoped>\n",
              "    .dataframe tbody tr th:only-of-type {\n",
              "        vertical-align: middle;\n",
              "    }\n",
              "\n",
              "    .dataframe tbody tr th {\n",
              "        vertical-align: top;\n",
              "    }\n",
              "\n",
              "    .dataframe thead th {\n",
              "        text-align: right;\n",
              "    }\n",
              "</style>\n",
              "<table border=\"1\" class=\"dataframe\">\n",
              "  <thead>\n",
              "    <tr style=\"text-align: right;\">\n",
              "      <th></th>\n",
              "      <th>label</th>\n",
              "    </tr>\n",
              "    <tr>\n",
              "      <th>tripid</th>\n",
              "      <th></th>\n",
              "    </tr>\n",
              "  </thead>\n",
              "  <tbody>\n",
              "    <tr>\n",
              "      <th>200328361</th>\n",
              "      <td>1</td>\n",
              "    </tr>\n",
              "    <tr>\n",
              "      <th>191127057</th>\n",
              "      <td>1</td>\n",
              "    </tr>\n",
              "    <tr>\n",
              "      <th>200136070</th>\n",
              "      <td>1</td>\n",
              "    </tr>\n",
              "    <tr>\n",
              "      <th>195614910</th>\n",
              "      <td>1</td>\n",
              "    </tr>\n",
              "    <tr>\n",
              "      <th>191488838</th>\n",
              "      <td>1</td>\n",
              "    </tr>\n",
              "  </tbody>\n",
              "</table>\n",
              "</div>"
            ],
            "text/plain": [
              "           label\n",
              "tripid          \n",
              "200328361      1\n",
              "191127057      1\n",
              "200136070      1\n",
              "195614910      1\n",
              "191488838      1"
            ]
          },
          "metadata": {
            "tags": []
          },
          "execution_count": 50
        }
      ]
    },
    {
      "cell_type": "code",
      "metadata": {
        "id": "JZoJhQ_uYHG0",
        "colab_type": "code",
        "outputId": "611a8345-c97a-49fd-eaad-ab3173e9571a",
        "colab": {
          "base_uri": "https://localhost:8080/",
          "height": 34
        }
      },
      "source": [
        "f1_score(y_eval, y_preds, average='macro')"
      ],
      "execution_count": 51,
      "outputs": [
        {
          "output_type": "execute_result",
          "data": {
            "text/plain": [
              "0.8170736090722465"
            ]
          },
          "metadata": {
            "tags": []
          },
          "execution_count": 51
        }
      ]
    },
    {
      "cell_type": "code",
      "metadata": {
        "id": "XzW18o9lhS_x",
        "colab_type": "code",
        "outputId": "0a96376e-cfaf-47cd-80d7-d8636fc31561",
        "colab": {
          "base_uri": "https://localhost:8080/",
          "height": 52
        }
      },
      "source": [
        "# retrain on full dataset\n",
        "%%time \n",
        "\n",
        "clf.fit(features_df_preprocess, labels_df.values.ravel())\n",
        "\n",
        "None   # So we don't print out the whole pipeline representation"
      ],
      "execution_count": 52,
      "outputs": [
        {
          "output_type": "stream",
          "text": [
            "CPU times: user 19.8 s, sys: 1.06 s, total: 20.9 s\n",
            "Wall time: 12.4 s\n"
          ],
          "name": "stdout"
        }
      ]
    },
    {
      "cell_type": "code",
      "metadata": {
        "id": "NSrik_r9hsxD",
        "colab_type": "code",
        "colab": {}
      },
      "source": [
        "preds1 = clf.predict(test_features_df_preprocess)"
      ],
      "execution_count": 0,
      "outputs": []
    },
    {
      "cell_type": "code",
      "metadata": {
        "id": "1cZIp7k0h2FW",
        "colab_type": "code",
        "colab": {}
      },
      "source": [
        "submission_df = pd.read_csv(DATA_PATH / \"/content/drive/My Drive/ML/sample_submission.csv\", \n",
        "                            index_col=\"tripid\")"
      ],
      "execution_count": 0,
      "outputs": []
    },
    {
      "cell_type": "code",
      "metadata": {
        "id": "UvPw8rxoiCQl",
        "colab_type": "code",
        "colab": {}
      },
      "source": [
        "# Make sure we have the rows in the same order\n",
        "np.testing.assert_array_equal(test_features_df.index.values, \n",
        "                              submission_df.index.values)"
      ],
      "execution_count": 0,
      "outputs": []
    },
    {
      "cell_type": "code",
      "metadata": {
        "id": "TEwjq-7kpJeL",
        "colab_type": "code",
        "colab": {}
      },
      "source": [
        "# Save predictions to submission data frame\n",
        "submission_df[\"prediction\"] = preds1"
      ],
      "execution_count": 0,
      "outputs": []
    },
    {
      "cell_type": "code",
      "metadata": {
        "id": "BLdRLhxmiRxv",
        "colab_type": "code",
        "colab": {}
      },
      "source": [
        "submission_df.to_csv('my_submission.csv', index=True)"
      ],
      "execution_count": 0,
      "outputs": []
    }
  ]
}