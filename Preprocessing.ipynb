{
  "nbformat": 4,
  "nbformat_minor": 0,
  "metadata": {
    "colab": {
      "name": "Preprocessing.ipynb",
      "provenance": [],
      "collapsed_sections": [
        "SD0YQKbgRqsA",
        "EY2tZewtWt3H",
        "AIIxwV3JbyG-",
        "3f3jh_YeBTqJ",
        "p1Y-IYGjCVEo",
        "u1WRrc-kDbnv"
      ]
    },
    "kernelspec": {
      "name": "python3",
      "display_name": "Python 3"
    },
    "accelerator": "GPU"
  },
  "cells": [
    {
      "cell_type": "code",
      "metadata": {
        "id": "NHsxjXJcSSr7",
        "colab_type": "code",
        "colab": {}
      },
      "source": [
        "from google.colab import drive\n",
        "drive.mount('/content/drive/')"
      ],
      "execution_count": null,
      "outputs": []
    },
    {
      "cell_type": "code",
      "metadata": {
        "id": "suUgE_EWSkJH",
        "colab_type": "code",
        "colab": {
          "base_uri": "https://localhost:8080/",
          "height": 34
        },
        "outputId": "4740f18c-07f9-4b4e-c311-28614e99093c"
      },
      "source": [
        "cd \"/content/drive/My Drive/ML\""
      ],
      "execution_count": 2,
      "outputs": [
        {
          "output_type": "stream",
          "text": [
            "/content/drive/My Drive/ML\n"
          ],
          "name": "stdout"
        }
      ]
    },
    {
      "cell_type": "code",
      "metadata": {
        "id": "LpaarpAnWHkY",
        "colab_type": "code",
        "colab": {
          "base_uri": "https://localhost:8080/",
          "height": 72
        },
        "outputId": "450fd2f7-6e2b-4364-f028-f3c9fe8a9118"
      },
      "source": [
        "from pathlib import Path\n",
        "\n",
        "import numpy as np\n",
        "import pandas as pd\n",
        "\n",
        "%matplotlib inline\n",
        "import matplotlib.pyplot as plt\n",
        "\n",
        "from sklearn.preprocessing import StandardScaler\n",
        "from sklearn.decomposition import PCA\n",
        "import seaborn as sns\n",
        "\n",
        "RANDOM_SEED = 8    # Set a random seed for reproducibility!\n",
        "pd.set_option(\"display.max_columns\", 100)"
      ],
      "execution_count": 3,
      "outputs": [
        {
          "output_type": "stream",
          "text": [
            "/usr/local/lib/python3.6/dist-packages/statsmodels/tools/_testing.py:19: FutureWarning: pandas.util.testing is deprecated. Use the functions in the public API at pandas.testing instead.\n",
            "  import pandas.util.testing as tm\n"
          ],
          "name": "stderr"
        }
      ]
    },
    {
      "cell_type": "code",
      "metadata": {
        "id": "tH0_nHHE7o9v",
        "colab_type": "code",
        "colab": {}
      },
      "source": [
        "DATA_PATH = Path.cwd().parent / \"data\" / \"final\" / \"public\"\n",
        "\n",
        "train_df = pd.read_csv(\n",
        "    DATA_PATH / \"/content/drive/My Drive/ML/train.csv\", \n",
        "    index_col=\"tripid\"\n",
        ")\n",
        "test_features_df = pd.read_csv(\n",
        "    DATA_PATH / \"/content/drive/My Drive/ML/test.csv\", \n",
        "    index_col=\"tripid\"\n",
        ")"
      ],
      "execution_count": 4,
      "outputs": []
    },
    {
      "cell_type": "code",
      "metadata": {
        "id": "S6Swy-Kg7N11",
        "colab_type": "code",
        "colab": {}
      },
      "source": [
        "labels_df = train_df[['label']]\n",
        "features_df = train_df.drop(['label'], axis=1)"
      ],
      "execution_count": 5,
      "outputs": []
    },
    {
      "cell_type": "code",
      "metadata": {
        "id": "_R073VaVAVqE",
        "colab_type": "code",
        "colab": {}
      },
      "source": [
        "labels_df=labels_df.replace(\"correct\", 1)\n",
        "labels_df=labels_df.replace(\"incorrect\", 0)"
      ],
      "execution_count": 6,
      "outputs": []
    },
    {
      "cell_type": "code",
      "metadata": {
        "id": "wW9OpMWI5IzA",
        "colab_type": "code",
        "colab": {
          "base_uri": "https://localhost:8080/",
          "height": 296
        },
        "outputId": "cd0724f6-948a-457e-8253-d3a4d54b73ba"
      },
      "source": [
        "fig, ax = plt.subplots(1, 1, sharex=True)\n",
        "\n",
        "n_obs = labels_df.shape[0]\n",
        "\n",
        "(labels_df['label']\n",
        "    .value_counts()\n",
        "    .div(n_obs)\n",
        "    .plot.barh(title=\"Proportion of correct & incorrect\")\n",
        ")\n",
        "ax.set_ylabel(\"label\")\n",
        "\n",
        "fig.tight_layout()"
      ],
      "execution_count": 7,
      "outputs": [
        {
          "output_type": "display_data",
          "data": {
            "image/png": "[encoded data removed]",
            "text/plain": [
              "<Figure size 432x288 with 1 Axes>"
            ]
          },
          "metadata": {
            "tags": [],
            "needs_background": "light"
          }
        }
      ]
    },
    {
      "cell_type": "code",
      "metadata": {
        "id": "SShS9n_Iwjhg",
        "colab_type": "code",
        "colab": {}
      },
      "source": [
        "# imputation\n",
        "features_df = features_df.fillna(features_df.mean())\n",
        "test_features_df = test_features_df.fillna(test_features_df.mean())"
      ],
      "execution_count": 8,
      "outputs": []
    },
    {
      "cell_type": "markdown",
      "metadata": {
        "id": "tDJvnZmCvdxA",
        "colab_type": "text"
      },
      "source": [
        "# Feature Generation"
      ]
    },
    {
      "cell_type": "code",
      "metadata": {
        "id": "bFe3yBQgYgFp",
        "colab_type": "code",
        "colab": {}
      },
      "source": [
        "def haversine_array(lat1, lon1, lat2, lon2):\n",
        "    lat1, lon1, lat2, lon2 = map(np.radians, (lat1, lon1, lat2, lon2))\n",
        "    avg_earth_radius = 6371  # in km\n",
        "    lat = lat2 - lat1\n",
        "    lon = lon2 - lon1\n",
        "    d = np.sin(lat * 0.5) ** 2 + np.cos(lat1) * np.cos(lat2) * np.sin(lon * 0.5) ** 2\n",
        "    h = 2 * avg_earth_radius * np.arcsin(np.sqrt(d))\n",
        "    return h\n",
        "\n",
        "def dummy_manhattan_distance(lat1, lon1, lat2, lon2):\n",
        "    a = haversine_array(lat1, lon1, lat1, lon2)\n",
        "    b = haversine_array(lat1, lon1, lat2, lon1)\n",
        "    return a + b\n",
        "\n",
        "def bearing_array(lat1, lon1, lat2, lon2):\n",
        "    avg_earth_radius = 6371  # in km\n",
        "    lon_delta_rad = np.radians(lon2 - lon1)\n",
        "    lat1, lon1, lat2, lon2 = map(np.radians, (lat1, lon1, lat2, lon2))\n",
        "    y = np.sin(lon_delta_rad) * np.cos(lat2)\n",
        "    x = np.cos(lat1) * np.sin(lat2) - np.sin(lat1) * np.cos(lat2) * np.cos(lon_delta_rad)\n",
        "    return np.degrees(np.arctan2(y, x))"
      ],
      "execution_count": 9,
      "outputs": []
    },
    {
      "cell_type": "code",
      "metadata": {
        "id": "Iy1E3-PoHsmp",
        "colab_type": "code",
        "colab": {}
      },
      "source": [
        "# distance features\n",
        "features_df['distance_haversine'] = haversine_array(features_df['pick_lat'], features_df['pick_lon'], features_df['drop_lat'], features_df['drop_lon'])\n",
        "features_df['distance_dummy_manhattan'] = dummy_manhattan_distance(features_df['pick_lat'], features_df['pick_lon'], features_df['drop_lat'], features_df['drop_lon'])\n",
        "features_df['direction'] = bearing_array(features_df['pick_lat'], features_df['pick_lon'], features_df['drop_lat'], features_df['drop_lon'])\n",
        "features_df['center_lat'] = (features_df['pick_lat'] + features_df['drop_lat']) / 2\n",
        "features_df['center_lon'] = (features_df['pick_lon'] + features_df['drop_lon']) / 2\n",
        "\n",
        "test_features_df['distance_haversine'] = haversine_array(test_features_df['pick_lat'], test_features_df['pick_lon'], test_features_df['drop_lat'], test_features_df['drop_lon'])\n",
        "test_features_df['distance_dummy_manhattan'] = dummy_manhattan_distance(test_features_df['pick_lat'], test_features_df['pick_lon'], test_features_df['drop_lat'], test_features_df['drop_lon'])\n",
        "test_features_df['direction'] = bearing_array(test_features_df['pick_lat'], test_features_df['pick_lon'], test_features_df['drop_lat'], test_features_df['drop_lon'])\n",
        "test_features_df['center_lat'] = (test_features_df['pick_lat'] + test_features_df['drop_lat']) / 2\n",
        "test_features_df['center_lon'] = (test_features_df['pick_lon'] + test_features_df['drop_lon']) / 2"
      ],
      "execution_count": 10,
      "outputs": []
    },
    {
      "cell_type": "code",
      "metadata": {
        "id": "ikbeYy5GCk6f",
        "colab_type": "code",
        "colab": {}
      },
      "source": [
        "# # PCA features\n",
        "# coords = np.vstack((features_df[['pick_lat', 'pick_lon']],\n",
        "#                     features_df[['drop_lat', 'drop_lon']],\n",
        "#                     test_features_df[['pick_lat', 'pick_lon']],\n",
        "#                     test_features_df[['drop_lat', 'drop_lon']]))\n",
        "\n",
        "# pca = PCA().fit(coords)\n",
        "# features_df['pick_pca0'] = pca.transform(features_df[['pick_lat', 'pick_lon']])[:, 0]\n",
        "# features_df['pick_pca1'] = pca.transform(features_df[['pick_lat', 'pick_lon']])[:, 1]\n",
        "# features_df['drop_pca0'] = pca.transform(features_df[['drop_lat', 'drop_lon']])[:, 0]\n",
        "# features_df['drop_pca1'] = pca.transform(features_df[['drop_lat', 'drop_lon']])[:, 1]\n",
        "\n",
        "# test_features_df['pick_pca0'] = pca.transform(test_features_df[['pick_lat', 'pick_lon']])[:, 0]\n",
        "# test_features_df['pick_pca1'] = pca.transform(test_features_df[['pick_lat', 'pick_lon']])[:, 1]\n",
        "# test_features_df['drop_pca0'] = pca.transform(test_features_df[['drop_lat', 'drop_lon']])[:, 0]\n",
        "# test_features_df['drop_pca1'] = pca.transform(test_features_df[['drop_lat', 'drop_lon']])[:, 1]\n",
        "\n",
        "# features_df['pca_manhattan'] = np.abs(features_df['drop_pca1'] - features_df['pick_pca1']) + np.abs(features_df['drop_pca0'] - features_df['pick_pca0'])\n",
        "# test_features_df['pca_manhattan'] = np.abs(test_features_df['drop_pca1'] - test_features_df['pick_pca1']) + np.abs(test_features_df['drop_pca0'] - test_features_df['pick_pca0'])"
      ],
      "execution_count": null,
      "outputs": []
    },
    {
      "cell_type": "code",
      "metadata": {
        "id": "d-s5LatIInII",
        "colab_type": "code",
        "colab": {}
      },
      "source": [
        "# Date & time features\n",
        "features_df['pickup_time'] = pd.to_datetime(features_df.pickup_time)\n",
        "features_df['drop_time'] = pd.to_datetime(features_df.drop_time)\n",
        "\n",
        "features_df['pickup_hour'] = features_df['pickup_time'].dt.hour\n",
        "features_df['pickup_minute'] = features_df['pickup_time'].dt.minute\n",
        "features_df['pickup_day'] = features_df['pickup_time'].dt.day\n",
        "\n",
        "features_df['drop_hour'] = features_df['drop_time'].dt.hour\n",
        "features_df['drop_minute'] = features_df['drop_time'].dt.minute\n",
        "features_df['drop_day'] = features_df['drop_time'].dt.day\n",
        "\n",
        "features_df[\"effective_time\"] = features_df[\"duration\"] - features_df[\"meter_waiting\"]"
      ],
      "execution_count": 11,
      "outputs": []
    },
    {
      "cell_type": "code",
      "metadata": {
        "id": "U1YA3E9tIrMM",
        "colab_type": "code",
        "colab": {}
      },
      "source": [
        "test_features_df['pickup_time'] = pd.to_datetime(test_features_df.pickup_time)\n",
        "test_features_df['drop_time'] = pd.to_datetime(test_features_df.drop_time)\n",
        "\n",
        "test_features_df['pickup_hour'] = test_features_df['pickup_time'].dt.hour\n",
        "test_features_df['pickup_minute'] = test_features_df['pickup_time'].dt.minute\n",
        "test_features_df['pickup_day'] = test_features_df['pickup_time'].dt.day\n",
        "\n",
        "test_features_df['drop_hour'] = test_features_df['drop_time'].dt.hour\n",
        "test_features_df['drop_minute'] = test_features_df['drop_time'].dt.minute\n",
        "test_features_df['drop_day'] = test_features_df['drop_time'].dt.day\n",
        "\n",
        "test_features_df[\"effective_time\"] = test_features_df[\"duration\"] - test_features_df[\"meter_waiting\"]"
      ],
      "execution_count": 12,
      "outputs": []
    },
    {
      "cell_type": "code",
      "metadata": {
        "id": "cMkgSj0nKkpz",
        "colab_type": "code",
        "colab": {}
      },
      "source": [
        "# # Speed features\n",
        "# features_df['avg_speed_h'] = 1000 * features_df['distance_haversine'] / features_df['duration']\n",
        "# features_df['avg_speed_m'] = 1000 * features_df['distance_dummy_manhattan'] / features_df['duration']\n",
        "\n",
        "# test_features_df['avg_speed_h'] = 1000 * test_features_df['distance_haversine'] / test_features_df['duration']\n",
        "# test_features_df['avg_speed_m'] = 1000 * test_features_df['distance_dummy_manhattan'] / test_features_df['duration']"
      ],
      "execution_count": null,
      "outputs": []
    },
    {
      "cell_type": "code",
      "metadata": {
        "id": "qFYehyeZ-2Yo",
        "colab_type": "code",
        "colab": {}
      },
      "source": [
        "group_freq = '60min'\n",
        "\n",
        "features_df['pickup_time_group'] = features_df['pickup_time'].dt.round(group_freq)\n",
        "test_features_df['pickup_time_group'] = test_features_df['pickup_time'].dt.round(group_freq)"
      ],
      "execution_count": 13,
      "outputs": []
    },
    {
      "cell_type": "code",
      "metadata": {
        "id": "LsuBCCiyWKoO",
        "colab_type": "code",
        "colab": {
          "base_uri": "https://localhost:8080/",
          "height": 478
        },
        "outputId": "6cd711a0-708a-4803-eaae-1f8d55e66923"
      },
      "source": [
        "features_df.dtypes"
      ],
      "execution_count": 14,
      "outputs": [
        {
          "output_type": "execute_result",
          "data": {
            "text/plain": [
              "additional_fare                     float64\n",
              "duration                            float64\n",
              "meter_waiting                       float64\n",
              "meter_waiting_fare                  float64\n",
              "meter_waiting_till_pickup           float64\n",
              "pickup_time                  datetime64[ns]\n",
              "drop_time                    datetime64[ns]\n",
              "pick_lat                            float64\n",
              "pick_lon                            float64\n",
              "drop_lat                            float64\n",
              "drop_lon                            float64\n",
              "fare                                float64\n",
              "distance_haversine                  float64\n",
              "distance_dummy_manhattan            float64\n",
              "direction                           float64\n",
              "center_lat                          float64\n",
              "center_lon                          float64\n",
              "pickup_hour                           int64\n",
              "pickup_minute                         int64\n",
              "pickup_day                            int64\n",
              "drop_hour                             int64\n",
              "drop_minute                           int64\n",
              "drop_day                              int64\n",
              "effective_time                      float64\n",
              "pickup_time_group            datetime64[ns]\n",
              "dtype: object"
            ]
          },
          "metadata": {
            "tags": []
          },
          "execution_count": 14
        }
      ]
    },
    {
      "cell_type": "code",
      "metadata": {
        "id": "N2-RdZ9imAC7",
        "colab_type": "code",
        "colab": {
          "base_uri": "https://localhost:8080/",
          "height": 34
        },
        "outputId": "d145293d-0af0-443f-93a0-fd95f8e9ef68"
      },
      "source": [
        "features_df.shape"
      ],
      "execution_count": null,
      "outputs": [
        {
          "output_type": "execute_result",
          "data": {
            "text/plain": [
              "(17176, 25)"
            ]
          },
          "metadata": {
            "tags": []
          },
          "execution_count": 178
        }
      ]
    },
    {
      "cell_type": "markdown",
      "metadata": {
        "id": "K8gB0i3ixrhz",
        "colab_type": "text"
      },
      "source": [
        "# Scaling"
      ]
    },
    {
      "cell_type": "code",
      "metadata": {
        "id": "VgtLzH3mxtMR",
        "colab_type": "code",
        "colab": {}
      },
      "source": [
        "not_scale = ['pickup_time', 'drop_time', 'pickup_time_group']\n",
        "feature_names = [f for f in features_df.columns if f not in not_scale]"
      ],
      "execution_count": 15,
      "outputs": []
    },
    {
      "cell_type": "code",
      "metadata": {
        "id": "h_jx8R0Bz28p",
        "colab_type": "code",
        "colab": {}
      },
      "source": [
        "scaler = StandardScaler()\n",
        "features_df[feature_names] = scaler.fit_transform(features_df[feature_names].values)\n",
        "test_features_df[feature_names] = scaler.fit_transform(test_features_df[feature_names].values)"
      ],
      "execution_count": 16,
      "outputs": []
    },
    {
      "cell_type": "markdown",
      "metadata": {
        "id": "77gx-OS5wng2",
        "colab_type": "text"
      },
      "source": [
        "# remove collinear variables"
      ]
    },
    {
      "cell_type": "code",
      "metadata": {
        "id": "QUpIgzvyNnK3",
        "colab_type": "code",
        "colab": {}
      },
      "source": [
        "joined_df = features_df.join(labels_df)"
      ],
      "execution_count": 17,
      "outputs": []
    },
    {
      "cell_type": "code",
      "metadata": {
        "id": "b-GsZ5z4NrSf",
        "colab_type": "code",
        "colab": {
          "base_uri": "https://localhost:8080/",
          "height": 434
        },
        "outputId": "53f45611-3a0d-40dc-caf4-060db8a7e5e3"
      },
      "source": [
        "variable_correlations = joined_df.corr()\n",
        "variable_corr_heat = sns.heatmap(variable_correlations)\n",
        "plt.title('Variable Correlations')"
      ],
      "execution_count": 18,
      "outputs": [
        {
          "output_type": "execute_result",
          "data": {
            "text/plain": [
              "Text(0.5, 1.0, 'Variable Correlations')"
            ]
          },
          "metadata": {
            "tags": []
          },
          "execution_count": 18
        },
        {
          "output_type": "display_data",
          "data": {
            "image/png": "[encoded data removed]",
            "text/plain": [
              "<Figure size 432x288 with 2 Axes>"
            ]
          },
          "metadata": {
            "tags": [],
            "needs_background": "light"
          }
        }
      ]
    },
    {
      "cell_type": "code",
      "metadata": {
        "id": "ZYfN6yf6wsjB",
        "colab_type": "code",
        "colab": {
          "base_uri": "https://localhost:8080/",
          "height": 217
        },
        "outputId": "03077409-ef85-4f6c-9425-53127eb1afc7"
      },
      "source": [
        "#Threshold for removing correlated variables\n",
        "threshold = 0.9\n",
        "\n",
        "# Absolute value correlation matrix\n",
        "corr_matrix = features_df.corr().abs()\n",
        "corr_matrix.head()"
      ],
      "execution_count": null,
      "outputs": [
        {
          "output_type": "execute_result",
          "data": {
            "text/html": [
              "<div>\n",
              "<style scoped>\n",
              "    .dataframe tbody tr th:only-of-type {\n",
              "        vertical-align: middle;\n",
              "    }\n",
              "\n",
              "    .dataframe tbody tr th {\n",
              "        vertical-align: top;\n",
              "    }\n",
              "\n",
              "    .dataframe thead th {\n",
              "        text-align: right;\n",
              "    }\n",
              "</style>\n",
              "<table border=\"1\" class=\"dataframe\">\n",
              "  <thead>\n",
              "    <tr style=\"text-align: right;\">\n",
              "      <th></th>\n",
              "      <th>additional_fare</th>\n",
              "      <th>duration</th>\n",
              "      <th>meter_waiting</th>\n",
              "      <th>meter_waiting_fare</th>\n",
              "      <th>meter_waiting_till_pickup</th>\n",
              "      <th>pick_lat</th>\n",
              "      <th>pick_lon</th>\n",
              "      <th>drop_lat</th>\n",
              "      <th>drop_lon</th>\n",
              "      <th>fare</th>\n",
              "      <th>distance_haversine</th>\n",
              "      <th>distance_dummy_manhattan</th>\n",
              "      <th>direction</th>\n",
              "      <th>center_lat</th>\n",
              "      <th>center_lon</th>\n",
              "      <th>pickup_hour</th>\n",
              "      <th>pickup_minute</th>\n",
              "      <th>pickup_day</th>\n",
              "      <th>drop_hour</th>\n",
              "      <th>drop_minute</th>\n",
              "      <th>drop_day</th>\n",
              "      <th>effective_time</th>\n",
              "    </tr>\n",
              "  </thead>\n",
              "  <tbody>\n",
              "    <tr>\n",
              "      <th>additional_fare</th>\n",
              "      <td>1.000000</td>\n",
              "      <td>0.000772</td>\n",
              "      <td>0.197605</td>\n",
              "      <td>0.199604</td>\n",
              "      <td>0.002355</td>\n",
              "      <td>0.009072</td>\n",
              "      <td>0.000616</td>\n",
              "      <td>0.004635</td>\n",
              "      <td>0.001533</td>\n",
              "      <td>0.315185</td>\n",
              "      <td>0.000431</td>\n",
              "      <td>0.000433</td>\n",
              "      <td>0.010591</td>\n",
              "      <td>0.006965</td>\n",
              "      <td>0.001273</td>\n",
              "      <td>0.005005</td>\n",
              "      <td>0.000707</td>\n",
              "      <td>0.005794</td>\n",
              "      <td>0.004665</td>\n",
              "      <td>0.000058</td>\n",
              "      <td>0.005804</td>\n",
              "      <td>0.803874</td>\n",
              "    </tr>\n",
              "    <tr>\n",
              "      <th>duration</th>\n",
              "      <td>0.000772</td>\n",
              "      <td>1.000000</td>\n",
              "      <td>0.969787</td>\n",
              "      <td>0.968666</td>\n",
              "      <td>0.040578</td>\n",
              "      <td>0.026925</td>\n",
              "      <td>0.025381</td>\n",
              "      <td>0.015938</td>\n",
              "      <td>0.013555</td>\n",
              "      <td>0.864975</td>\n",
              "      <td>0.012871</td>\n",
              "      <td>0.010715</td>\n",
              "      <td>0.006315</td>\n",
              "      <td>0.022239</td>\n",
              "      <td>0.020071</td>\n",
              "      <td>0.005947</td>\n",
              "      <td>0.001969</td>\n",
              "      <td>0.009452</td>\n",
              "      <td>0.005428</td>\n",
              "      <td>0.001217</td>\n",
              "      <td>0.007426</td>\n",
              "      <td>0.151021</td>\n",
              "    </tr>\n",
              "    <tr>\n",
              "      <th>meter_waiting</th>\n",
              "      <td>0.197605</td>\n",
              "      <td>0.969787</td>\n",
              "      <td>1.000000</td>\n",
              "      <td>0.999474</td>\n",
              "      <td>0.030447</td>\n",
              "      <td>0.016079</td>\n",
              "      <td>0.014093</td>\n",
              "      <td>0.010098</td>\n",
              "      <td>0.007876</td>\n",
              "      <td>0.869846</td>\n",
              "      <td>0.004352</td>\n",
              "      <td>0.003712</td>\n",
              "      <td>0.003920</td>\n",
              "      <td>0.013697</td>\n",
              "      <td>0.011373</td>\n",
              "      <td>0.009066</td>\n",
              "      <td>0.002244</td>\n",
              "      <td>0.005544</td>\n",
              "      <td>0.015199</td>\n",
              "      <td>0.000637</td>\n",
              "      <td>0.003626</td>\n",
              "      <td>0.094696</td>\n",
              "    </tr>\n",
              "    <tr>\n",
              "      <th>meter_waiting_fare</th>\n",
              "      <td>0.199604</td>\n",
              "      <td>0.968666</td>\n",
              "      <td>0.999474</td>\n",
              "      <td>1.000000</td>\n",
              "      <td>0.029908</td>\n",
              "      <td>0.014929</td>\n",
              "      <td>0.012379</td>\n",
              "      <td>0.009412</td>\n",
              "      <td>0.006780</td>\n",
              "      <td>0.864794</td>\n",
              "      <td>0.003910</td>\n",
              "      <td>0.003360</td>\n",
              "      <td>0.004098</td>\n",
              "      <td>0.012744</td>\n",
              "      <td>0.009899</td>\n",
              "      <td>0.008428</td>\n",
              "      <td>0.002129</td>\n",
              "      <td>0.004982</td>\n",
              "      <td>0.014691</td>\n",
              "      <td>0.000409</td>\n",
              "      <td>0.003032</td>\n",
              "      <td>0.097141</td>\n",
              "    </tr>\n",
              "    <tr>\n",
              "      <th>meter_waiting_till_pickup</th>\n",
              "      <td>0.002355</td>\n",
              "      <td>0.040578</td>\n",
              "      <td>0.030447</td>\n",
              "      <td>0.029908</td>\n",
              "      <td>1.000000</td>\n",
              "      <td>0.011329</td>\n",
              "      <td>0.016372</td>\n",
              "      <td>0.006935</td>\n",
              "      <td>0.011024</td>\n",
              "      <td>0.045454</td>\n",
              "      <td>0.003081</td>\n",
              "      <td>0.002477</td>\n",
              "      <td>0.009362</td>\n",
              "      <td>0.009522</td>\n",
              "      <td>0.014436</td>\n",
              "      <td>0.007282</td>\n",
              "      <td>0.013474</td>\n",
              "      <td>0.003943</td>\n",
              "      <td>0.009144</td>\n",
              "      <td>0.006227</td>\n",
              "      <td>0.003503</td>\n",
              "      <td>0.042213</td>\n",
              "    </tr>\n",
              "  </tbody>\n",
              "</table>\n",
              "</div>"
            ],
            "text/plain": [
              "                           additional_fare  duration  meter_waiting  \\\n",
              "additional_fare                   1.000000  0.000772       0.197605   \n",
              "duration                          0.000772  1.000000       0.969787   \n",
              "meter_waiting                     0.197605  0.969787       1.000000   \n",
              "meter_waiting_fare                0.199604  0.968666       0.999474   \n",
              "meter_waiting_till_pickup         0.002355  0.040578       0.030447   \n",
              "\n",
              "                           meter_waiting_fare  meter_waiting_till_pickup  \\\n",
              "additional_fare                      0.199604                   0.002355   \n",
              "duration                             0.968666                   0.040578   \n",
              "meter_waiting                        0.999474                   0.030447   \n",
              "meter_waiting_fare                   1.000000                   0.029908   \n",
              "meter_waiting_till_pickup            0.029908                   1.000000   \n",
              "\n",
              "                           pick_lat  pick_lon  drop_lat  drop_lon      fare  \\\n",
              "additional_fare            0.009072  0.000616  0.004635  0.001533  0.315185   \n",
              "duration                   0.026925  0.025381  0.015938  0.013555  0.864975   \n",
              "meter_waiting              0.016079  0.014093  0.010098  0.007876  0.869846   \n",
              "meter_waiting_fare         0.014929  0.012379  0.009412  0.006780  0.864794   \n",
              "meter_waiting_till_pickup  0.011329  0.016372  0.006935  0.011024  0.045454   \n",
              "\n",
              "                           distance_haversine  distance_dummy_manhattan  \\\n",
              "additional_fare                      0.000431                  0.000433   \n",
              "duration                             0.012871                  0.010715   \n",
              "meter_waiting                        0.004352                  0.003712   \n",
              "meter_waiting_fare                   0.003910                  0.003360   \n",
              "meter_waiting_till_pickup            0.003081                  0.002477   \n",
              "\n",
              "                           direction  center_lat  center_lon  pickup_hour  \\\n",
              "additional_fare             0.010591    0.006965    0.001273     0.005005   \n",
              "duration                    0.006315    0.022239    0.020071     0.005947   \n",
              "meter_waiting               0.003920    0.013697    0.011373     0.009066   \n",
              "meter_waiting_fare          0.004098    0.012744    0.009899     0.008428   \n",
              "meter_waiting_till_pickup   0.009362    0.009522    0.014436     0.007282   \n",
              "\n",
              "                           pickup_minute  pickup_day  drop_hour  drop_minute  \\\n",
              "additional_fare                 0.000707    0.005794   0.004665     0.000058   \n",
              "duration                        0.001969    0.009452   0.005428     0.001217   \n",
              "meter_waiting                   0.002244    0.005544   0.015199     0.000637   \n",
              "meter_waiting_fare              0.002129    0.004982   0.014691     0.000409   \n",
              "meter_waiting_till_pickup       0.013474    0.003943   0.009144     0.006227   \n",
              "\n",
              "                           drop_day  effective_time  \n",
              "additional_fare            0.005804        0.803874  \n",
              "duration                   0.007426        0.151021  \n",
              "meter_waiting              0.003626        0.094696  \n",
              "meter_waiting_fare         0.003032        0.097141  \n",
              "meter_waiting_till_pickup  0.003503        0.042213  "
            ]
          },
          "metadata": {
            "tags": []
          },
          "execution_count": 182
        }
      ]
    },
    {
      "cell_type": "code",
      "metadata": {
        "id": "nhkMEbp4ww4j",
        "colab_type": "code",
        "colab": {}
      },
      "source": [
        "# Upper triangle of correlations\n",
        "upper = corr_matrix.where(np.triu(np.ones(corr_matrix.shape), k=1).astype(np.bool))"
      ],
      "execution_count": null,
      "outputs": []
    },
    {
      "cell_type": "code",
      "metadata": {
        "id": "e3D1k0DKwyq4",
        "colab_type": "code",
        "colab": {
          "base_uri": "https://localhost:8080/",
          "height": 34
        },
        "outputId": "4bc027b9-0fe6-46a5-e65f-a0d74ebc0c6c"
      },
      "source": [
        "# Select columns with correlations above threshold\n",
        "to_drop = [column for column in upper.columns if any(upper[column] > threshold)]\n",
        "print(to_drop)"
      ],
      "execution_count": null,
      "outputs": [
        {
          "output_type": "stream",
          "text": [
            "['meter_waiting', 'meter_waiting_fare', 'distance_dummy_manhattan', 'center_lat', 'center_lon', 'drop_hour', 'drop_day']\n"
          ],
          "name": "stdout"
        }
      ]
    },
    {
      "cell_type": "code",
      "metadata": {
        "id": "KgvxSWV8w7I0",
        "colab_type": "code",
        "colab": {}
      },
      "source": [
        "features_df = features_df.drop(columns = to_drop)\n",
        "test_features_df = test_features_df.drop(columns = to_drop)"
      ],
      "execution_count": null,
      "outputs": []
    }
  ]
}