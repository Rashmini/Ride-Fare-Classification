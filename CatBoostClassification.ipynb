{
  "nbformat": 4,
  "nbformat_minor": 0,
  "metadata": {
    "colab": {
      "name": "CatBoostClassification.ipynb",
      "provenance": [],
      "collapsed_sections": [
        "SD0YQKbgRqsA",
        "EY2tZewtWt3H",
        "AIIxwV3JbyG-",
        "3f3jh_YeBTqJ",
        "p1Y-IYGjCVEo",
        "u1WRrc-kDbnv"
      ]
    },
    "kernelspec": {
      "name": "python3",
      "display_name": "Python 3"
    },
    "accelerator": "GPU"
  },
  "cells": [
    {
      "cell_type": "code",
      "metadata": {
        "id": "NHsxjXJcSSr7",
        "colab_type": "code",
        "colab": {}
      },
      "source": [
        "from google.colab import drive\n",
        "drive.mount('/content/drive/')"
      ],
      "execution_count": 0,
      "outputs": []
    },
    {
      "cell_type": "code",
      "metadata": {
        "id": "suUgE_EWSkJH",
        "colab_type": "code",
        "outputId": "14898954-ff1c-4989-cf2a-f7f14ec425d0",
        "colab": {
          "base_uri": "https://localhost:8080/",
          "height": 34
        }
      },
      "source": [
        "cd \"/content/drive/My Drive/ML\""
      ],
      "execution_count": 2,
      "outputs": [
        {
          "output_type": "stream",
          "text": [
            "/content/drive/My Drive/ML\n"
          ],
          "name": "stdout"
        }
      ]
    },
    {
      "cell_type": "code",
      "metadata": {
        "id": "LpaarpAnWHkY",
        "colab_type": "code",
        "colab": {}
      },
      "source": [
        "from pathlib import Path\n",
        "\n",
        "import numpy as np\n",
        "import pandas as pd\n",
        "\n",
        "RANDOM_SEED = 8    # Set a random seed for reproducibility!\n",
        "pd.set_option(\"display.max_columns\", 100)"
      ],
      "execution_count": 0,
      "outputs": []
    },
    {
      "cell_type": "code",
      "metadata": {
        "id": "jhOZvRwHDyQa",
        "colab_type": "code",
        "colab": {}
      },
      "source": [
        "!pip3 install catboost\n",
        "from catboost import CatBoostClassifier"
      ],
      "execution_count": 0,
      "outputs": []
    },
    {
      "cell_type": "code",
      "metadata": {
        "id": "tH0_nHHE7o9v",
        "colab_type": "code",
        "colab": {}
      },
      "source": [
        "DATA_PATH = Path.cwd().parent / \"data\" / \"final\" / \"public\"\n",
        "\n",
        "train_df = pd.read_csv(\n",
        "    DATA_PATH / \"/content/drive/My Drive/ML/train.csv\", \n",
        "    index_col=\"tripid\"\n",
        ")\n",
        "test_features_df = pd.read_csv(\n",
        "    DATA_PATH / \"/content/drive/My Drive/ML/test.csv\", \n",
        "    index_col=\"tripid\"\n",
        ")"
      ],
      "execution_count": 0,
      "outputs": []
    },
    {
      "cell_type": "code",
      "metadata": {
        "id": "S6Swy-Kg7N11",
        "colab_type": "code",
        "colab": {}
      },
      "source": [
        "labels_df = train_df[['label']]\n",
        "features_df = train_df.drop(['label'], axis=1)"
      ],
      "execution_count": 0,
      "outputs": []
    },
    {
      "cell_type": "code",
      "metadata": {
        "id": "_R073VaVAVqE",
        "colab_type": "code",
        "colab": {}
      },
      "source": [
        "labels_df=labels_df.replace(\"correct\", 1)\n",
        "labels_df=labels_df.replace(\"incorrect\", 0)"
      ],
      "execution_count": 0,
      "outputs": []
    },
    {
      "cell_type": "code",
      "metadata": {
        "id": "SShS9n_Iwjhg",
        "colab_type": "code",
        "colab": {}
      },
      "source": [
        "features_df = features_df.fillna(features_df.mean())\n",
        "test_features_df = test_features_df.fillna(test_features_df.mean())"
      ],
      "execution_count": 0,
      "outputs": []
    },
    {
      "cell_type": "code",
      "metadata": {
        "id": "bFe3yBQgYgFp",
        "colab_type": "code",
        "colab": {}
      },
      "source": [
        "def distance(lat1, lon1, lat2, lon2):\n",
        "    p = 0.017453292519943295 # Pi/180\n",
        "    a = 0.5 - np.cos((lat2 - lat1) * p)/2 + np.cos(lat1 * p) * np.cos(lat2 * p) * (1 - np.cos((lon2 - lon1) * p)) / 2\n",
        "    return 0.6213712 * 12742 * np.arcsin(np.sqrt(a)) "
      ],
      "execution_count": 0,
      "outputs": []
    },
    {
      "cell_type": "code",
      "metadata": {
        "id": "nO1aPqwGecjL",
        "colab_type": "code",
        "colab": {}
      },
      "source": [
        "features_df[\"distance\"] = distance(features_df[\"pick_lat\"],features_df[\"pick_lon\"],features_df[\"drop_lat\"],features_df[\"drop_lon\"])\n",
        "test_features_df[\"distance\"] = distance(test_features_df[\"pick_lat\"],test_features_df[\"pick_lon\"],test_features_df[\"drop_lat\"],test_features_df[\"drop_lon\"])"
      ],
      "execution_count": 0,
      "outputs": []
    },
    {
      "cell_type": "code",
      "metadata": {
        "id": "jOP-WJ2vu9vy",
        "colab_type": "code",
        "colab": {}
      },
      "source": [
        "features_df['pickup_time'] = features_df['pickup_time'].astype('datetime64[m]')\n",
        "features_df['drop_time'] = features_df['drop_time'].astype('datetime64[m]')\n",
        "\n",
        "features_df['pickup_hour'] = [time.hour for time in features_df['pickup_time']]\n",
        "features_df['pickup_minute'] = [time.minute for time in features_df['pickup_time']]\n",
        "features_df['pickup_day'] = [date.day for date in features_df['pickup_time']]\n",
        "\n",
        "features_df['drop_hour'] = [time.hour for time in features_df['drop_time']]\n",
        "features_df['drop_minute'] = [time.minute for time in features_df['drop_time']]\n",
        "features_df['drop_day'] = [date.day for date in features_df['drop_time']]\n",
        "\n",
        "features_df[\"effective_time\"] = features_df[\"duration\"] - features_df[\"meter_waiting\"]"
      ],
      "execution_count": 0,
      "outputs": []
    },
    {
      "cell_type": "code",
      "metadata": {
        "id": "cajZieBGaf4c",
        "colab_type": "code",
        "colab": {}
      },
      "source": [
        "test_features_df['pickup_time'] = test_features_df['pickup_time'].astype('datetime64[m]')\n",
        "test_features_df['drop_time'] = test_features_df['drop_time'].astype('datetime64[m]')\n",
        "\n",
        "test_features_df['pickup_hour'] = [time.hour for time in test_features_df['pickup_time']]\n",
        "test_features_df['pickup_minute'] = [time.minute for time in test_features_df['pickup_time']]\n",
        "test_features_df['pickup_day'] = [date.day for date in test_features_df['pickup_time']]\n",
        "\n",
        "test_features_df['drop_hour'] = [time.hour for time in test_features_df['drop_time']]\n",
        "test_features_df['drop_minute'] = [time.minute for time in test_features_df['drop_time']]\n",
        "test_features_df['drop_day'] = [date.day for date in test_features_df['drop_time']]\n",
        "\n",
        "test_features_df[\"effective_time\"] = test_features_df[\"duration\"] - test_features_df[\"meter_waiting\"]"
      ],
      "execution_count": 0,
      "outputs": []
    },
    {
      "cell_type": "code",
      "metadata": {
        "id": "LsuBCCiyWKoO",
        "colab_type": "code",
        "outputId": "a7195a57-d816-4e3b-e782-e4c5048140e3",
        "colab": {
          "base_uri": "https://localhost:8080/",
          "height": 390
        }
      },
      "source": [
        "features_df.dtypes"
      ],
      "execution_count": 13,
      "outputs": [
        {
          "output_type": "execute_result",
          "data": {
            "text/plain": [
              "additional_fare                     float64\n",
              "duration                            float64\n",
              "meter_waiting                       float64\n",
              "meter_waiting_fare                  float64\n",
              "meter_waiting_till_pickup           float64\n",
              "pickup_time                  datetime64[ns]\n",
              "drop_time                    datetime64[ns]\n",
              "pick_lat                            float64\n",
              "pick_lon                            float64\n",
              "drop_lat                            float64\n",
              "drop_lon                            float64\n",
              "fare                                float64\n",
              "distance                            float64\n",
              "pickup_hour                           int64\n",
              "pickup_minute                         int64\n",
              "pickup_day                            int64\n",
              "drop_hour                             int64\n",
              "drop_minute                           int64\n",
              "drop_day                              int64\n",
              "effective_time                      float64\n",
              "dtype: object"
            ]
          },
          "metadata": {
            "tags": []
          },
          "execution_count": 13
        }
      ]
    },
    {
      "cell_type": "code",
      "metadata": {
        "id": "N2-RdZ9imAC7",
        "colab_type": "code",
        "colab": {
          "base_uri": "https://localhost:8080/",
          "height": 34
        },
        "outputId": "fe1b5255-8e74-45b5-decd-e44519cfe880"
      },
      "source": [
        "features_df.shape"
      ],
      "execution_count": 14,
      "outputs": [
        {
          "output_type": "execute_result",
          "data": {
            "text/plain": [
              "(17176, 20)"
            ]
          },
          "metadata": {
            "tags": []
          },
          "execution_count": 14
        }
      ]
    },
    {
      "cell_type": "code",
      "metadata": {
        "id": "ChmkSraYj5pT",
        "colab_type": "code",
        "colab": {}
      },
      "source": [
        "clf = CatBoostClassifier(iterations=500000)"
      ],
      "execution_count": 0,
      "outputs": []
    },
    {
      "cell_type": "code",
      "metadata": {
        "id": "XzW18o9lhS_x",
        "colab_type": "code",
        "colab": {}
      },
      "source": [
        "%%time \n",
        "\n",
        "# train on full dataset\n",
        "clf.fit(features_df, labels_df.values.ravel())\n",
        "\n",
        "None   # So we don't print out the whole pipeline representation"
      ],
      "execution_count": 0,
      "outputs": []
    },
    {
      "cell_type": "code",
      "metadata": {
        "id": "NSrik_r9hsxD",
        "colab_type": "code",
        "colab": {}
      },
      "source": [
        "preds1 = clf.predict(test_features_df)"
      ],
      "execution_count": 0,
      "outputs": []
    },
    {
      "cell_type": "code",
      "metadata": {
        "id": "1cZIp7k0h2FW",
        "colab_type": "code",
        "colab": {}
      },
      "source": [
        "submission_df = pd.read_csv(DATA_PATH / \"/content/drive/My Drive/ML/sample_submission.csv\", \n",
        "                            index_col=\"tripid\")"
      ],
      "execution_count": 0,
      "outputs": []
    },
    {
      "cell_type": "code",
      "metadata": {
        "id": "UvPw8rxoiCQl",
        "colab_type": "code",
        "colab": {}
      },
      "source": [
        "# Make sure we have the rows in the same order\n",
        "np.testing.assert_array_equal(test_features_df.index.values, \n",
        "                              submission_df.index.values)"
      ],
      "execution_count": 0,
      "outputs": []
    },
    {
      "cell_type": "code",
      "metadata": {
        "id": "TEwjq-7kpJeL",
        "colab_type": "code",
        "colab": {}
      },
      "source": [
        "# Save predictions to submission data frame\n",
        "submission_df[\"prediction\"] = preds1"
      ],
      "execution_count": 0,
      "outputs": []
    },
    {
      "cell_type": "code",
      "metadata": {
        "id": "BLdRLhxmiRxv",
        "colab_type": "code",
        "colab": {}
      },
      "source": [
        "submission_df.to_csv('my_submission.csv', index=True)"
      ],
      "execution_count": 0,
      "outputs": []
    }
  ]
}