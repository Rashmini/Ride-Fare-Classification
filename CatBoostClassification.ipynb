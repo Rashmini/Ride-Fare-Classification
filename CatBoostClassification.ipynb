{
  "nbformat": 4,
  "nbformat_minor": 0,
  "metadata": {
    "colab": {
      "name": "CatBoostClassification.ipynb",
      "provenance": [],
      "collapsed_sections": [
        "SD0YQKbgRqsA",
        "EY2tZewtWt3H",
        "AIIxwV3JbyG-",
        "3f3jh_YeBTqJ",
        "p1Y-IYGjCVEo",
        "u1WRrc-kDbnv"
      ]
    },
    "kernelspec": {
      "name": "python3",
      "display_name": "Python 3"
    },
    "accelerator": "GPU"
  },
  "cells": [
    {
      "cell_type": "code",
      "metadata": {
        "id": "NHsxjXJcSSr7",
        "colab_type": "code",
        "colab": {}
      },
      "source": [
        "from google.colab import drive\n",
        "drive.mount('/content/drive/')"
      ],
      "execution_count": 0,
      "outputs": []
    },
    {
      "cell_type": "code",
      "metadata": {
        "id": "suUgE_EWSkJH",
        "colab_type": "code",
        "outputId": "df234c00-b136-4d8d-af79-8af16793b809",
        "colab": {
          "base_uri": "https://localhost:8080/",
          "height": 34
        }
      },
      "source": [
        "cd \"/content/drive/My Drive/ML\""
      ],
      "execution_count": 2,
      "outputs": [
        {
          "output_type": "stream",
          "text": [
            "/content/drive/My Drive/ML\n"
          ],
          "name": "stdout"
        }
      ]
    },
    {
      "cell_type": "code",
      "metadata": {
        "id": "LpaarpAnWHkY",
        "colab_type": "code",
        "colab": {}
      },
      "source": [
        "from pathlib import Path\n",
        "\n",
        "import numpy as np\n",
        "import pandas as pd\n",
        "\n",
        "from sklearn.model_selection import train_test_split\n",
        "from sklearn.metrics import f1_score\n",
        "\n",
        "RANDOM_SEED = 8    # Set a random seed for reproducibility!\n",
        "pd.set_option(\"display.max_columns\", 100)"
      ],
      "execution_count": 0,
      "outputs": []
    },
    {
      "cell_type": "code",
      "metadata": {
        "id": "jhOZvRwHDyQa",
        "colab_type": "code",
        "colab": {}
      },
      "source": [
        "!pip3 install catboost\n",
        "from catboost import CatBoostClassifier"
      ],
      "execution_count": 0,
      "outputs": []
    },
    {
      "cell_type": "code",
      "metadata": {
        "id": "tH0_nHHE7o9v",
        "colab_type": "code",
        "colab": {}
      },
      "source": [
        "DATA_PATH = Path.cwd().parent / \"data\" / \"final\" / \"public\"\n",
        "\n",
        "train_df = pd.read_csv(\n",
        "    DATA_PATH / \"/content/drive/My Drive/ML/train.csv\", \n",
        "    index_col=\"tripid\"\n",
        ")\n",
        "test_features_df = pd.read_csv(\n",
        "    DATA_PATH / \"/content/drive/My Drive/ML/test.csv\", \n",
        "    index_col=\"tripid\"\n",
        ")"
      ],
      "execution_count": 0,
      "outputs": []
    },
    {
      "cell_type": "code",
      "metadata": {
        "id": "S6Swy-Kg7N11",
        "colab_type": "code",
        "colab": {}
      },
      "source": [
        "labels_df = train_df[['label']]\n",
        "features_df = train_df.drop(['label'], axis=1)"
      ],
      "execution_count": 0,
      "outputs": []
    },
    {
      "cell_type": "code",
      "metadata": {
        "id": "_R073VaVAVqE",
        "colab_type": "code",
        "colab": {}
      },
      "source": [
        "labels_df=labels_df.replace(\"correct\", 1)\n",
        "labels_df=labels_df.replace(\"incorrect\", 0)"
      ],
      "execution_count": 0,
      "outputs": []
    },
    {
      "cell_type": "code",
      "metadata": {
        "id": "SShS9n_Iwjhg",
        "colab_type": "code",
        "colab": {}
      },
      "source": [
        "features_df = features_df.fillna(features_df.mean())\n",
        "test_features_df = test_features_df.fillna(test_features_df.mean())"
      ],
      "execution_count": 0,
      "outputs": []
    },
    {
      "cell_type": "code",
      "metadata": {
        "id": "bFe3yBQgYgFp",
        "colab_type": "code",
        "colab": {}
      },
      "source": [
        "def haversine_array(lat1, lon1, lat2, lon2):\n",
        "    lat1, lon1, lat2, lon2 = map(np.radians, (lat1, lon1, lat2, lon2))\n",
        "    avg_earth_radius = 6371  # in km\n",
        "    lat = lat2 - lat1\n",
        "    lon = lon2 - lon1\n",
        "    d = np.sin(lat * 0.5) ** 2 + np.cos(lat1) * np.cos(lat2) * np.sin(lon * 0.5) ** 2\n",
        "    h = 2 * avg_earth_radius * np.arcsin(np.sqrt(d))\n",
        "    return h\n",
        "\n",
        "def dummy_manhattan_distance(lat1, lon1, lat2, lon2):\n",
        "    a = haversine_array(lat1, lon1, lat1, lon2)\n",
        "    b = haversine_array(lat1, lon1, lat2, lon1)\n",
        "    return a + b\n",
        "\n",
        "def bearing_array(lat1, lon1, lat2, lon2):\n",
        "    avg_earth_radius = 6371  # in km\n",
        "    lon_delta_rad = np.radians(lon2 - lon1)\n",
        "    lat1, lon1, lat2, lon2 = map(np.radians, (lat1, lon1, lat2, lon2))\n",
        "    y = np.sin(lon_delta_rad) * np.cos(lat2)\n",
        "    x = np.cos(lat1) * np.sin(lat2) - np.sin(lat1) * np.cos(lat2) * np.cos(lon_delta_rad)\n",
        "    return np.degrees(np.arctan2(y, x))"
      ],
      "execution_count": 0,
      "outputs": []
    },
    {
      "cell_type": "code",
      "metadata": {
        "id": "nO1aPqwGecjL",
        "colab_type": "code",
        "colab": {}
      },
      "source": [
        "features_df['distance_haversine'] = haversine_array(features_df['pick_lat'], features_df['pick_lon'], features_df['drop_lat'], features_df['drop_lon'])\n",
        "features_df['distance_dummy_manhattan'] = dummy_manhattan_distance(features_df['pick_lat'], features_df['pick_lon'], features_df['drop_lat'], features_df['drop_lon'])\n",
        "features_df['direction'] = bearing_array(features_df['pick_lat'], features_df['pick_lon'], features_df['drop_lat'], features_df['drop_lon'])\n",
        "\n",
        "test_features_df['distance_haversine'] = haversine_array(test_features_df['pick_lat'], test_features_df['pick_lon'], test_features_df['drop_lat'], test_features_df['drop_lon'])\n",
        "test_features_df['distance_dummy_manhattan'] = dummy_manhattan_distance(test_features_df['pick_lat'], test_features_df['pick_lon'], test_features_df['drop_lat'], test_features_df['drop_lon'])\n",
        "test_features_df['direction'] = bearing_array(test_features_df['pick_lat'], test_features_df['pick_lon'], test_features_df['drop_lat'], test_features_df['drop_lon'])"
      ],
      "execution_count": 0,
      "outputs": []
    },
    {
      "cell_type": "code",
      "metadata": {
        "id": "jOP-WJ2vu9vy",
        "colab_type": "code",
        "colab": {}
      },
      "source": [
        "features_df['pickup_time'] = pd.to_datetime(features_df.pickup_time)\n",
        "features_df['drop_time'] = pd.to_datetime(features_df.drop_time)\n",
        "\n",
        "features_df['pickup_hour'] = features_df['pickup_time'].dt.hour\n",
        "features_df['pickup_minute'] = features_df['pickup_time'].dt.minute\n",
        "features_df['pickup_day'] = features_df['pickup_time'].dt.day\n",
        "\n",
        "features_df['drop_hour'] = features_df['drop_time'].dt.hour\n",
        "features_df['drop_minute'] = features_df['drop_time'].dt.minute\n",
        "features_df['drop_day'] = features_df['drop_time'].dt.day\n",
        "\n",
        "features_df[\"effective_time\"] = features_df[\"duration\"] - features_df[\"meter_waiting\"]"
      ],
      "execution_count": 0,
      "outputs": []
    },
    {
      "cell_type": "code",
      "metadata": {
        "id": "cajZieBGaf4c",
        "colab_type": "code",
        "colab": {}
      },
      "source": [
        "test_features_df['pickup_time'] = pd.to_datetime(test_features_df.pickup_time)\n",
        "test_features_df['drop_time'] = pd.to_datetime(test_features_df.drop_time)\n",
        "\n",
        "test_features_df['pickup_hour'] = test_features_df['pickup_time'].dt.hour\n",
        "test_features_df['pickup_minute'] = test_features_df['pickup_time'].dt.minute\n",
        "test_features_df['pickup_day'] = test_features_df['pickup_time'].dt.day\n",
        "\n",
        "test_features_df['drop_hour'] = test_features_df['drop_time'].dt.hour\n",
        "test_features_df['drop_minute'] = test_features_df['drop_time'].dt.minute\n",
        "test_features_df['drop_day'] = test_features_df['drop_time'].dt.day\n",
        "\n",
        "test_features_df[\"effective_time\"] = test_features_df[\"duration\"] - test_features_df[\"meter_waiting\"]"
      ],
      "execution_count": 0,
      "outputs": []
    },
    {
      "cell_type": "code",
      "metadata": {
        "id": "LsuBCCiyWKoO",
        "colab_type": "code",
        "outputId": "ebcc026f-61ce-4c8f-d91f-3ca417f7c65f",
        "colab": {
          "base_uri": "https://localhost:8080/",
          "height": 425
        }
      },
      "source": [
        "features_df.dtypes"
      ],
      "execution_count": 13,
      "outputs": [
        {
          "output_type": "execute_result",
          "data": {
            "text/plain": [
              "additional_fare                     float64\n",
              "duration                            float64\n",
              "meter_waiting                       float64\n",
              "meter_waiting_fare                  float64\n",
              "meter_waiting_till_pickup           float64\n",
              "pickup_time                  datetime64[ns]\n",
              "drop_time                    datetime64[ns]\n",
              "pick_lat                            float64\n",
              "pick_lon                            float64\n",
              "drop_lat                            float64\n",
              "drop_lon                            float64\n",
              "fare                                float64\n",
              "distance_haversine                  float64\n",
              "distance_dummy_manhattan            float64\n",
              "direction                           float64\n",
              "pickup_hour                           int64\n",
              "pickup_minute                         int64\n",
              "pickup_day                            int64\n",
              "drop_hour                             int64\n",
              "drop_minute                           int64\n",
              "drop_day                              int64\n",
              "effective_time                      float64\n",
              "dtype: object"
            ]
          },
          "metadata": {
            "tags": []
          },
          "execution_count": 13
        }
      ]
    },
    {
      "cell_type": "code",
      "metadata": {
        "id": "N2-RdZ9imAC7",
        "colab_type": "code",
        "outputId": "f257b096-34d4-46db-b076-d72ce37c7c34",
        "colab": {
          "base_uri": "https://localhost:8080/",
          "height": 34
        }
      },
      "source": [
        "features_df.shape"
      ],
      "execution_count": 14,
      "outputs": [
        {
          "output_type": "execute_result",
          "data": {
            "text/plain": [
              "(17176, 22)"
            ]
          },
          "metadata": {
            "tags": []
          },
          "execution_count": 14
        }
      ]
    },
    {
      "cell_type": "code",
      "metadata": {
        "id": "ChmkSraYj5pT",
        "colab_type": "code",
        "colab": {}
      },
      "source": [
        "clf = CatBoostClassifier()"
      ],
      "execution_count": 0,
      "outputs": []
    },
    {
      "cell_type": "code",
      "metadata": {
        "id": "tCDb2knXjWEd",
        "colab_type": "code",
        "colab": {}
      },
      "source": [
        "X_train, X_eval, y_train, y_eval = train_test_split(\n",
        "    features_df,\n",
        "    labels_df,\n",
        "    test_size=0.33,\n",
        "    shuffle=True,\n",
        "    stratify=labels_df,\n",
        "    random_state=RANDOM_SEED\n",
        ")"
      ],
      "execution_count": 0,
      "outputs": []
    },
    {
      "cell_type": "code",
      "metadata": {
        "id": "UrPlxQsQjW1G",
        "colab_type": "code",
        "colab": {}
      },
      "source": [
        "%%time\n",
        "\n",
        "# Train model\n",
        "clf.fit(X_train, y_train.values.ravel())\n",
        "\n",
        "None   # don't print out the whole pipeline representation"
      ],
      "execution_count": 0,
      "outputs": []
    },
    {
      "cell_type": "code",
      "metadata": {
        "id": "aJR40KQYjdf-",
        "colab_type": "code",
        "colab": {}
      },
      "source": [
        "# Predict on evaluation set\n",
        "preds = clf.predict(X_eval)"
      ],
      "execution_count": 0,
      "outputs": []
    },
    {
      "cell_type": "code",
      "metadata": {
        "id": "EB6tO8h3jfBN",
        "colab_type": "code",
        "colab": {}
      },
      "source": [
        "y_preds = pd.DataFrame(\n",
        "    {\n",
        "        \"label\": preds,\n",
        "    },\n",
        "    index = y_eval.index\n",
        ")"
      ],
      "execution_count": 0,
      "outputs": []
    },
    {
      "cell_type": "code",
      "metadata": {
        "id": "7v-AG4E_jhf3",
        "colab_type": "code",
        "outputId": "7b16e60c-ff0d-4511-8896-be0307990a6b",
        "colab": {
          "base_uri": "https://localhost:8080/",
          "height": 34
        }
      },
      "source": [
        "f1_score(y_eval, y_preds, average='macro')"
      ],
      "execution_count": 20,
      "outputs": [
        {
          "output_type": "execute_result",
          "data": {
            "text/plain": [
              "0.8479011189509598"
            ]
          },
          "metadata": {
            "tags": []
          },
          "execution_count": 20
        }
      ]
    },
    {
      "cell_type": "code",
      "metadata": {
        "id": "XzW18o9lhS_x",
        "colab_type": "code",
        "colab": {}
      },
      "source": [
        "%%time \n",
        "\n",
        "# train on full dataset\n",
        "clf.fit(features_df, labels_df.values.ravel())\n",
        "\n",
        "None   # So we don't print out the whole pipeline representation"
      ],
      "execution_count": 0,
      "outputs": []
    },
    {
      "cell_type": "code",
      "metadata": {
        "id": "NSrik_r9hsxD",
        "colab_type": "code",
        "colab": {}
      },
      "source": [
        "preds1 = clf.predict(test_features_df)"
      ],
      "execution_count": 0,
      "outputs": []
    },
    {
      "cell_type": "code",
      "metadata": {
        "id": "1cZIp7k0h2FW",
        "colab_type": "code",
        "colab": {}
      },
      "source": [
        "submission_df = pd.read_csv(DATA_PATH / \"/content/drive/My Drive/ML/sample_submission.csv\", \n",
        "                            index_col=\"tripid\")"
      ],
      "execution_count": 0,
      "outputs": []
    },
    {
      "cell_type": "code",
      "metadata": {
        "id": "UvPw8rxoiCQl",
        "colab_type": "code",
        "colab": {}
      },
      "source": [
        "# Make sure we have the rows in the same order\n",
        "np.testing.assert_array_equal(test_features_df.index.values, \n",
        "                              submission_df.index.values)"
      ],
      "execution_count": 0,
      "outputs": []
    },
    {
      "cell_type": "code",
      "metadata": {
        "id": "TEwjq-7kpJeL",
        "colab_type": "code",
        "colab": {}
      },
      "source": [
        "# Save predictions to submission data frame\n",
        "submission_df[\"prediction\"] = preds1"
      ],
      "execution_count": 0,
      "outputs": []
    },
    {
      "cell_type": "code",
      "metadata": {
        "id": "BLdRLhxmiRxv",
        "colab_type": "code",
        "colab": {}
      },
      "source": [
        "submission_df.to_csv('my_submission.csv', index=True)"
      ],
      "execution_count": 0,
      "outputs": []
    }
  ]
}